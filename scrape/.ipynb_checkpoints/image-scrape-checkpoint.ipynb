{
 "cells": [
  {
   "cell_type": "code",
   "execution_count": 5,
   "metadata": {},
   "outputs": [],
   "source": [
    "import urllib.request\n",
    "import requests\n",
    "from requests.exceptions import HTTPError"
   ]
  },
  {
   "cell_type": "code",
   "execution_count": null,
   "metadata": {},
   "outputs": [
    {
     "name": "stdout",
     "output_type": "stream",
     "text": [
      "<_io.TextIOWrapper name='urls.txt' mode='r' encoding='utf8'>\n",
      "http://www.canilelucca.com/public/phpThumb/phpThumb.php/85x85;../pannello_di_controllo/img/55953428-cocker.jpg\n",
      "\n",
      "Could not download http://www.canilelucca.com/public/phpThumb/phpThumb.php/85x85;../pannello_di_controllo/img/55953428-cocker.jpg%0A\n",
      "http://farm4.static.flickr.com/3565/3424273804_0efaf7a077.jpg\n",
      "\n",
      "http://farm2.static.flickr.com/1289/3352961299_b89931feab.jpg\n",
      "\n",
      "http://farm4.static.flickr.com/3148/2576652909_5176bf36cc.jpg\n",
      "\n",
      "http://1.bp.blogspot.com/_hGJfT5Lmrqw/SLRn-Ku2VjI/AAAAAAAACRY/Q0PMSR-UlKA/s200/belpasso.jpg\n",
      "\n",
      "http://farm4.static.flickr.com/3185/2496430292_88d3df51a0.jpg\n",
      "\n",
      "http://farm4.static.flickr.com/3257/2819793185_8e1f73663c.jpg\n",
      "\n"
     ]
    }
   ],
   "source": [
    "with open('urls.txt', 'r',encoding=\"utf8\") as f:\n",
    "    lines = f;\n",
    "    ctr = 0;\n",
    "    print(lines);\n",
    "    for a in lines:\n",
    "        print(a)\n",
    "        file = a.split('/');\n",
    "        filename=file[-1].rstrip('\\n')\n",
    "        try:\n",
    "            r = requests.get(a)\n",
    "            r.raise_for_status()\n",
    "        except HTTPError:\n",
    "            print ('Could not download', r.url)\n",
    "        except TimeoutError:\n",
    "            print('timeout')\n",
    "        except ConnectionError:\n",
    "            print(' conn error')\n",
    "        except :\n",
    "            print('error')\n",
    "        else:\n",
    "            try:\n",
    "                urllib.request.urlretrieve(a, \"images/\"+filename)\n",
    "            except:\n",
    "                print('get image error')\n",
    "        "
   ]
  },
  {
   "cell_type": "code",
   "execution_count": null,
   "metadata": {},
   "outputs": [],
   "source": []
  },
  {
   "cell_type": "code",
   "execution_count": null,
   "metadata": {},
   "outputs": [],
   "source": []
  }
 ],
 "metadata": {
  "kernelspec": {
   "display_name": "Python 3",
   "language": "python",
   "name": "python3"
  },
  "language_info": {
   "codemirror_mode": {
    "name": "ipython",
    "version": 3
   },
   "file_extension": ".py",
   "mimetype": "text/x-python",
   "name": "python",
   "nbconvert_exporter": "python",
   "pygments_lexer": "ipython3",
   "version": "3.6.6"
  }
 },
 "nbformat": 4,
 "nbformat_minor": 2
}
