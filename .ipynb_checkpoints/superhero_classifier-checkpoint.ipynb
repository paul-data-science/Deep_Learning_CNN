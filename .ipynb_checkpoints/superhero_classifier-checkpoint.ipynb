{
 "cells": [
  {
   "cell_type": "code",
   "execution_count": 1,
   "metadata": {
    "scrolled": true
   },
   "outputs": [
    {
     "name": "stderr",
     "output_type": "stream",
     "text": [
      "Using TensorFlow backend.\n"
     ]
    }
   ],
   "source": [
    "# Dependencies\n",
    "import matplotlib.pyplot as plt\n",
    "%matplotlib inline\n",
    "\n",
    "from PIL import Image\n",
    "import os\n",
    "import numpy as np\n",
    "import tensorflow as tf\n",
    "\n",
    "import keras\n",
    "from keras.preprocessing import image\n",
    "from keras.applications.vgg19 import (\n",
    "    VGG19, \n",
    "    preprocess_input, \n",
    "    decode_predictions\n",
    ")"
   ]
  },
  {
   "cell_type": "code",
   "execution_count": 2,
   "metadata": {},
   "outputs": [],
   "source": [
    "import cv2"
   ]
  },
  {
   "cell_type": "code",
   "execution_count": 3,
   "metadata": {},
   "outputs": [
    {
     "data": {
      "text/plain": [
       "['.git',\n",
       " '.ipynb_checkpoints',\n",
       " 'animal_database',\n",
       " 'animal_images',\n",
       " 'app',\n",
       " 'images',\n",
       " 'model',\n",
       " 'scrape',\n",
       " 'superhero_classifier.ipynb',\n",
       " 'Superhero_Images']"
      ]
     },
     "execution_count": 3,
     "metadata": {},
     "output_type": "execute_result"
    }
   ],
   "source": [
    "os.listdir()"
   ]
  },
  {
   "cell_type": "code",
   "execution_count": 8,
   "metadata": {},
   "outputs": [
    {
     "name": "stdout",
     "output_type": "stream",
     "text": [
      "ants\n",
      "armadillos\n",
      "bats\n",
      "black_widows\n",
      "cats\n",
      "cows\n",
      "deer\n",
      "ducks\n",
      "falcons\n",
      "frogs\n",
      "hawks\n",
      "lizards\n",
      "octopi\n",
      "panthers\n",
      "penguins\n",
      "porcupines\n",
      "rhinos\n",
      "robins\n",
      "sabertooth_tigers\n",
      "skunks\n",
      "spiders\n",
      "tigers\n",
      "turtles\n",
      "vultures\n",
      "wasps\n",
      "wolverines\n"
     ]
    }
   ],
   "source": [
    "data=[]\n",
    "labels=[]\n",
    "categories = []\n",
    "i = 0\n",
    "categs = os.listdir(\"images\")\n",
    "for categ in categs:\n",
    "    print(categ)\n",
    "    categories.append([i,categ])\n",
    "    animalpics = os.listdir(\"images/\" + categ)\n",
    "    for animalpic in animalpics:\n",
    "            animal_image = cv2.imread(\"images/\" + categ + \"/\"+ animalpic)\n",
    "            img_from_ar = Image.fromarray(animal_image, 'RGB')\n",
    "            resized_image = img_from_ar.resize((50, 50))\n",
    "            data.append(np.array(resized_image))\n",
    "            labels.append(i)\n",
    "    i = i +1"
   ]
  },
  {
   "cell_type": "code",
   "execution_count": 9,
   "metadata": {},
   "outputs": [
    {
     "data": {
      "text/plain": [
       "'ants'"
      ]
     },
     "execution_count": 9,
     "metadata": {},
     "output_type": "execute_result"
    }
   ],
   "source": [
    "categs[0]"
   ]
  },
  {
   "cell_type": "code",
   "execution_count": 10,
   "metadata": {},
   "outputs": [],
   "source": [
    "animals=np.array(data)\n",
    "labels=np.array(labels)\n",
    "animals=np.array(data)\n",
    "labels=np.array(labels)"
   ]
  },
  {
   "cell_type": "code",
   "execution_count": 11,
   "metadata": {},
   "outputs": [],
   "source": [
    "s=np.arange(animals.shape[0])\n",
    "np.random.shuffle(s)\n",
    "animals=animals[s]\n",
    "labels=labels[s]"
   ]
  },
  {
   "cell_type": "code",
   "execution_count": 12,
   "metadata": {},
   "outputs": [],
   "source": [
    "num_classes=len(np.unique(labels))\n",
    "data_length=len(animals)"
   ]
  },
  {
   "cell_type": "code",
   "execution_count": 13,
   "metadata": {},
   "outputs": [],
   "source": [
    "(x_train,x_test)=animals[(int)(0.1*data_length):],animals[:(int)(0.1*data_length)]\n",
    "x_train = x_train.astype('float32')/255\n",
    "x_test = x_test.astype('float32')/255\n",
    "train_length=len(x_train)\n",
    "test_length=len(x_test)"
   ]
  },
  {
   "cell_type": "code",
   "execution_count": 14,
   "metadata": {},
   "outputs": [],
   "source": [
    "(y_train,y_test)=labels[(int)(0.1*data_length):],labels[:(int)(0.1*data_length)]"
   ]
  },
  {
   "cell_type": "code",
   "execution_count": 15,
   "metadata": {},
   "outputs": [],
   "source": [
    "from keras.utils import np_utils\n",
    "#One hot encoding\n",
    "y_train=keras.utils.to_categorical(y_train,num_classes)\n",
    "y_test=keras.utils.to_categorical(y_test,num_classes)"
   ]
  },
  {
   "cell_type": "code",
   "execution_count": 16,
   "metadata": {},
   "outputs": [
    {
     "data": {
      "text/plain": [
       "26"
      ]
     },
     "execution_count": 16,
     "metadata": {},
     "output_type": "execute_result"
    }
   ],
   "source": [
    "i"
   ]
  },
  {
   "cell_type": "code",
   "execution_count": 17,
   "metadata": {},
   "outputs": [
    {
     "name": "stdout",
     "output_type": "stream",
     "text": [
      "_________________________________________________________________\n",
      "Layer (type)                 Output Shape              Param #   \n",
      "=================================================================\n",
      "conv2d_1 (Conv2D)            (None, 50, 50, 16)        208       \n",
      "_________________________________________________________________\n",
      "max_pooling2d_1 (MaxPooling2 (None, 25, 25, 16)        0         \n",
      "_________________________________________________________________\n",
      "conv2d_2 (Conv2D)            (None, 25, 25, 32)        2080      \n",
      "_________________________________________________________________\n",
      "max_pooling2d_2 (MaxPooling2 (None, 12, 12, 32)        0         \n",
      "_________________________________________________________________\n",
      "conv2d_3 (Conv2D)            (None, 12, 12, 64)        8256      \n",
      "_________________________________________________________________\n",
      "max_pooling2d_3 (MaxPooling2 (None, 6, 6, 64)          0         \n",
      "_________________________________________________________________\n",
      "dropout_1 (Dropout)          (None, 6, 6, 64)          0         \n",
      "_________________________________________________________________\n",
      "flatten_1 (Flatten)          (None, 2304)              0         \n",
      "_________________________________________________________________\n",
      "dense_1 (Dense)              (None, 500)               1152500   \n",
      "_________________________________________________________________\n",
      "dropout_2 (Dropout)          (None, 500)               0         \n",
      "_________________________________________________________________\n",
      "dense_2 (Dense)              (None, 26)                13026     \n",
      "=================================================================\n",
      "Total params: 1,176,070\n",
      "Trainable params: 1,176,070\n",
      "Non-trainable params: 0\n",
      "_________________________________________________________________\n"
     ]
    }
   ],
   "source": [
    "# import sequential model and all the required layers\n",
    "from keras.models import Sequential\n",
    "from keras.layers import Conv2D,MaxPooling2D,Dense,Flatten,Dropout\n",
    "#make model\n",
    "model=Sequential()\n",
    "model.add(Conv2D(filters=16,kernel_size=2,padding=\"same\",activation=\"relu\",input_shape=(50,50,3)))\n",
    "model.add(MaxPooling2D(pool_size=2))\n",
    "model.add(Conv2D(filters=32,kernel_size=2,padding=\"same\",activation=\"relu\"))\n",
    "model.add(MaxPooling2D(pool_size=2))\n",
    "model.add(Conv2D(filters=64,kernel_size=2,padding=\"same\",activation=\"relu\"))\n",
    "model.add(MaxPooling2D(pool_size=2))\n",
    "model.add(Dropout(0.2))\n",
    "model.add(Flatten())\n",
    "model.add(Dense(500,activation=\"relu\"))\n",
    "model.add(Dropout(0.2))\n",
    "model.add(Dense((i),activation=\"softmax\"))\n",
    "model.summary()"
   ]
  },
  {
   "cell_type": "code",
   "execution_count": 18,
   "metadata": {},
   "outputs": [],
   "source": [
    "model.compile(loss='categorical_crossentropy', optimizer='adam', \n",
    "                  metrics=['accuracy'])"
   ]
  },
  {
   "cell_type": "code",
   "execution_count": 19,
   "metadata": {},
   "outputs": [
    {
     "name": "stdout",
     "output_type": "stream",
     "text": [
      "Epoch 1/20\n",
      "2378/2378 [==============================] - 6s 2ms/step - loss: 3.1768 - acc: 0.1051\n",
      "Epoch 2/20\n",
      "2378/2378 [==============================] - 4s 2ms/step - loss: 2.7755 - acc: 0.2107\n",
      "Epoch 3/20\n",
      "2378/2378 [==============================] - 4s 2ms/step - loss: 2.4136 - acc: 0.3179\n",
      "Epoch 4/20\n",
      "2378/2378 [==============================] - 4s 2ms/step - loss: 2.1306 - acc: 0.3835\n",
      "Epoch 5/20\n",
      "2378/2378 [==============================] - 4s 2ms/step - loss: 1.9514 - acc: 0.4336\n",
      "Epoch 6/20\n",
      "2378/2378 [==============================] - 4s 2ms/step - loss: 1.7731 - acc: 0.4899\n",
      "Epoch 7/20\n",
      "2378/2378 [==============================] - 4s 2ms/step - loss: 1.6289 - acc: 0.5261\n",
      "Epoch 8/20\n",
      "2378/2378 [==============================] - 4s 2ms/step - loss: 1.4958 - acc: 0.5601\n",
      "Epoch 9/20\n",
      "2378/2378 [==============================] - 4s 2ms/step - loss: 1.3315 - acc: 0.6102\n",
      "Epoch 10/20\n",
      "2378/2378 [==============================] - 4s 2ms/step - loss: 1.2304 - acc: 0.6304\n",
      "Epoch 11/20\n",
      "2378/2378 [==============================] - 4s 2ms/step - loss: 1.0848 - acc: 0.6926\n",
      "Epoch 12/20\n",
      "2378/2378 [==============================] - 4s 2ms/step - loss: 0.9440 - acc: 0.7132\n",
      "Epoch 13/20\n",
      "2378/2378 [==============================] - 4s 2ms/step - loss: 0.8762 - acc: 0.7363\n",
      "Epoch 14/20\n",
      "2378/2378 [==============================] - 4s 2ms/step - loss: 0.7502 - acc: 0.7687\n",
      "Epoch 15/20\n",
      "2378/2378 [==============================] - 4s 2ms/step - loss: 0.6418 - acc: 0.8078\n",
      "Epoch 16/20\n",
      "2378/2378 [==============================] - 4s 2ms/step - loss: 0.5318 - acc: 0.8503\n",
      "Epoch 17/20\n",
      "2378/2378 [==============================] - 4s 2ms/step - loss: 0.4698 - acc: 0.8633\n",
      "Epoch 18/20\n",
      "2378/2378 [==============================] - 4s 2ms/step - loss: 0.4033 - acc: 0.8823\n",
      "Epoch 19/20\n",
      "2378/2378 [==============================] - 4s 2ms/step - loss: 0.3360 - acc: 0.9071\n",
      "Epoch 20/20\n",
      "2378/2378 [==============================] - 4s 2ms/step - loss: 0.2858 - acc: 0.9159\n"
     ]
    },
    {
     "data": {
      "text/plain": [
       "<keras.callbacks.History at 0x28fddcc00b8>"
      ]
     },
     "execution_count": 19,
     "metadata": {},
     "output_type": "execute_result"
    }
   ],
   "source": [
    "model.fit(x_train,y_train,batch_size=50\n",
    "          ,epochs=20,verbose=1)"
   ]
  },
  {
   "cell_type": "code",
   "execution_count": 20,
   "metadata": {},
   "outputs": [
    {
     "name": "stdout",
     "output_type": "stream",
     "text": [
      "264/264 [==============================] - 0s 2ms/step\n",
      "\n",
      " Test accuracy: 0.5151515151515151\n"
     ]
    }
   ],
   "source": [
    "score = model.evaluate(x_test, y_test, verbose=1)\n",
    "print('\\n', 'Test accuracy:', score[1])"
   ]
  },
  {
   "cell_type": "code",
   "execution_count": 32,
   "metadata": {},
   "outputs": [],
   "source": [
    "# Save the model\n",
    "model.save(\"predict_v1.h5\")"
   ]
  },
  {
   "cell_type": "code",
   "execution_count": null,
   "metadata": {},
   "outputs": [],
   "source": []
  },
  {
   "cell_type": "code",
   "execution_count": 21,
   "metadata": {},
   "outputs": [
    {
     "data": {
      "text/plain": [
       "'ants'"
      ]
     },
     "execution_count": 21,
     "metadata": {},
     "output_type": "execute_result"
    }
   ],
   "source": [
    "categories[0][1]"
   ]
  },
  {
   "cell_type": "code",
   "execution_count": 22,
   "metadata": {},
   "outputs": [],
   "source": [
    "def convert_to_array(img):\n",
    "    im = cv2.imread(img)\n",
    "    img = Image.fromarray(im, 'RGB')\n",
    "    image = img.resize((50, 50))\n",
    "    return np.array(image)\n",
    "def get_animal_name(label):\n",
    "    return (categories[label][1])\n",
    "    \n",
    "#     if label==0:\n",
    "#         return \"cow\"\n",
    "#     if label==1:\n",
    "#         return \"deer\"\n",
    "#     if label==2:\n",
    "#         return \"skunk\"\n",
    "#     if label==3:\n",
    "#          return \"fish\"\n",
    "def predict_animal(file):\n",
    "    print(\"Predicting .................................\")\n",
    "    ar=convert_to_array(file)\n",
    "    ar=ar/255\n",
    "    label=1\n",
    "    a=[]\n",
    "    a.append(ar)\n",
    "    a=np.array(a)\n",
    "    score=model.predict(a,verbose=1)\n",
    "    print(score)\n",
    "    label_index=np.argmax(score)\n",
    "    print(label_index)\n",
    "    acc=np.max(score)\n",
    "    animal=get_animal_name(label_index)\n",
    "    print(animal)\n",
    "    print(\"The predicted Animal is a \"+animal+\" with accuracy =    \"+str(acc))"
   ]
  },
  {
   "cell_type": "code",
   "execution_count": 31,
   "metadata": {},
   "outputs": [
    {
     "name": "stdout",
     "output_type": "stream",
     "text": [
      "Predicting .................................\n",
      "1/1 [==============================] - 0s 4ms/step\n",
      "[[3.8166053e-07 9.7997592e-08 1.7168254e-02 4.1689909e-06 3.1464544e-06\n",
      "  8.7218419e-02 2.1669405e-02 2.3776828e-03 2.1444608e-07 6.3896865e-01\n",
      "  4.2543099e-03 1.3434671e-01 3.0670371e-06 1.8560787e-08 7.0387840e-02\n",
      "  9.6875292e-06 1.2174755e-07 1.9192855e-03 1.3942117e-03 6.2400879e-08\n",
      "  3.5752419e-05 1.2996294e-02 7.0587953e-04 5.3087124e-10 6.5363930e-03\n",
      "  1.6256212e-08]]\n",
      "9\n",
      "frogs\n",
      "The predicted Animal is a frogs with accuracy =    0.63896865\n"
     ]
    }
   ],
   "source": [
    "predict_animal(\"Superhero_Images/vulture.jpg\")"
   ]
  },
  {
   "cell_type": "code",
   "execution_count": null,
   "metadata": {},
   "outputs": [],
   "source": []
  }
 ],
 "metadata": {
  "kernelspec": {
   "display_name": "Python 3",
   "language": "python",
   "name": "python3"
  },
  "language_info": {
   "codemirror_mode": {
    "name": "ipython",
    "version": 3
   },
   "file_extension": ".py",
   "mimetype": "text/x-python",
   "name": "python",
   "nbconvert_exporter": "python",
   "pygments_lexer": "ipython3",
   "version": "3.6.6"
  }
 },
 "nbformat": 4,
 "nbformat_minor": 2
}
