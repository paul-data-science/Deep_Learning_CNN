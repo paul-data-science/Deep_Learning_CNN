{
 "cells": [
  {
   "cell_type": "code",
   "execution_count": 1,
   "metadata": {
    "scrolled": true
   },
   "outputs": [
    {
     "name": "stderr",
     "output_type": "stream",
     "text": [
      "Using TensorFlow backend.\n"
     ]
    }
   ],
   "source": [
    "# Dependencies\n",
    "import matplotlib.pyplot as plt\n",
    "%matplotlib inline\n",
    "\n",
    "from PIL import Image\n",
    "import os\n",
    "import numpy as np\n",
    "import tensorflow as tf\n",
    "\n",
    "import keras\n",
    "from keras.preprocessing import image\n",
    "from keras.applications.vgg19 import (\n",
    "    VGG19, \n",
    "    preprocess_input, \n",
    "    decode_predictions\n",
    ")"
   ]
  },
  {
   "cell_type": "code",
   "execution_count": 2,
   "metadata": {},
   "outputs": [],
   "source": [
    "import cv2"
   ]
  },
  {
   "cell_type": "code",
   "execution_count": 3,
   "metadata": {},
   "outputs": [],
   "source": [
    "data=[]\n",
    "labels=[]\n",
    "categories = []\n",
    "i = 0\n",
    "categs = os.listdir(\"images\")\n",
    "for categ in categs:\n",
    "    categories.append([i,categ])\n",
    "    animalpics = os.listdir(\"images/\" + categ + \"/original\")\n",
    "    for animalpic in animalpics:\n",
    "            animal_image = cv2.imread(\"images/\" + categ + \"/original/\" + animalpic)\n",
    "            img_from_ar = Image.fromarray(animal_image, 'RGB')\n",
    "            resized_image = img_from_ar.resize((50, 50))\n",
    "            data.append(np.array(resized_image))\n",
    "            labels.append(i)\n",
    "    i = i +1"
   ]
  },
  {
   "cell_type": "code",
   "execution_count": 4,
   "metadata": {},
   "outputs": [
    {
     "data": {
      "text/plain": [
       "'cows'"
      ]
     },
     "execution_count": 4,
     "metadata": {},
     "output_type": "execute_result"
    }
   ],
   "source": [
    "categs[0]"
   ]
  },
  {
   "cell_type": "code",
   "execution_count": 5,
   "metadata": {},
   "outputs": [],
   "source": [
    "animals=np.array(data)\n",
    "labels=np.array(labels)\n",
    "animals=np.array(data)\n",
    "labels=np.array(labels)"
   ]
  },
  {
   "cell_type": "code",
   "execution_count": 6,
   "metadata": {},
   "outputs": [],
   "source": [
    "s=np.arange(animals.shape[0])\n",
    "np.random.shuffle(s)\n",
    "animals=animals[s]\n",
    "labels=labels[s]"
   ]
  },
  {
   "cell_type": "code",
   "execution_count": 7,
   "metadata": {},
   "outputs": [],
   "source": [
    "num_classes=len(np.unique(labels))\n",
    "data_length=len(animals)"
   ]
  },
  {
   "cell_type": "code",
   "execution_count": 8,
   "metadata": {},
   "outputs": [],
   "source": [
    "(x_train,x_test)=animals[(int)(0.1*data_length):],animals[:(int)(0.1*data_length)]\n",
    "x_train = x_train.astype('float32')/255\n",
    "x_test = x_test.astype('float32')/255\n",
    "train_length=len(x_train)\n",
    "test_length=len(x_test)"
   ]
  },
  {
   "cell_type": "code",
   "execution_count": 9,
   "metadata": {},
   "outputs": [],
   "source": [
    "(y_train,y_test)=labels[(int)(0.1*data_length):],labels[:(int)(0.1*data_length)]"
   ]
  },
  {
   "cell_type": "code",
   "execution_count": 10,
   "metadata": {},
   "outputs": [],
   "source": [
    "from keras.utils import np_utils\n",
    "#One hot encoding\n",
    "y_train=keras.utils.to_categorical(y_train,num_classes)\n",
    "y_test=keras.utils.to_categorical(y_test,num_classes)"
   ]
  },
  {
   "cell_type": "code",
   "execution_count": 11,
   "metadata": {},
   "outputs": [
    {
     "data": {
      "text/plain": [
       "3"
      ]
     },
     "execution_count": 11,
     "metadata": {},
     "output_type": "execute_result"
    }
   ],
   "source": [
    "i"
   ]
  },
  {
   "cell_type": "code",
   "execution_count": 12,
   "metadata": {},
   "outputs": [
    {
     "name": "stdout",
     "output_type": "stream",
     "text": [
      "_________________________________________________________________\n",
      "Layer (type)                 Output Shape              Param #   \n",
      "=================================================================\n",
      "conv2d_1 (Conv2D)            (None, 50, 50, 16)        208       \n",
      "_________________________________________________________________\n",
      "max_pooling2d_1 (MaxPooling2 (None, 25, 25, 16)        0         \n",
      "_________________________________________________________________\n",
      "conv2d_2 (Conv2D)            (None, 25, 25, 32)        2080      \n",
      "_________________________________________________________________\n",
      "max_pooling2d_2 (MaxPooling2 (None, 12, 12, 32)        0         \n",
      "_________________________________________________________________\n",
      "conv2d_3 (Conv2D)            (None, 12, 12, 64)        8256      \n",
      "_________________________________________________________________\n",
      "max_pooling2d_3 (MaxPooling2 (None, 6, 6, 64)          0         \n",
      "_________________________________________________________________\n",
      "dropout_1 (Dropout)          (None, 6, 6, 64)          0         \n",
      "_________________________________________________________________\n",
      "flatten_1 (Flatten)          (None, 2304)              0         \n",
      "_________________________________________________________________\n",
      "dense_1 (Dense)              (None, 500)               1152500   \n",
      "_________________________________________________________________\n",
      "dropout_2 (Dropout)          (None, 500)               0         \n",
      "_________________________________________________________________\n",
      "dense_2 (Dense)              (None, 3)                 1503      \n",
      "=================================================================\n",
      "Total params: 1,164,547\n",
      "Trainable params: 1,164,547\n",
      "Non-trainable params: 0\n",
      "_________________________________________________________________\n"
     ]
    }
   ],
   "source": [
    "# import sequential model and all the required layers\n",
    "from keras.models import Sequential\n",
    "from keras.layers import Conv2D,MaxPooling2D,Dense,Flatten,Dropout\n",
    "#make model\n",
    "model=Sequential()\n",
    "model.add(Conv2D(filters=16,kernel_size=2,padding=\"same\",activation=\"relu\",input_shape=(50,50,3)))\n",
    "model.add(MaxPooling2D(pool_size=2))\n",
    "model.add(Conv2D(filters=32,kernel_size=2,padding=\"same\",activation=\"relu\"))\n",
    "model.add(MaxPooling2D(pool_size=2))\n",
    "model.add(Conv2D(filters=64,kernel_size=2,padding=\"same\",activation=\"relu\"))\n",
    "model.add(MaxPooling2D(pool_size=2))\n",
    "model.add(Dropout(0.2))\n",
    "model.add(Flatten())\n",
    "model.add(Dense(500,activation=\"relu\"))\n",
    "model.add(Dropout(0.2))\n",
    "model.add(Dense((i),activation=\"softmax\"))\n",
    "model.summary()"
   ]
  },
  {
   "cell_type": "code",
   "execution_count": 13,
   "metadata": {},
   "outputs": [],
   "source": [
    "model.compile(loss='categorical_crossentropy', optimizer='adam', \n",
    "                  metrics=['accuracy'])"
   ]
  },
  {
   "cell_type": "code",
   "execution_count": null,
   "metadata": {},
   "outputs": [
    {
     "name": "stdout",
     "output_type": "stream",
     "text": [
      "Epoch 1/100\n",
      "234/234 [==============================] - 2s 9ms/step - loss: 1.0612 - acc: 0.4658\n",
      "Epoch 2/100\n",
      "234/234 [==============================] - 0s 2ms/step - loss: 0.9272 - acc: 0.5641\n",
      "Epoch 3/100\n",
      "234/234 [==============================] - 0s 2ms/step - loss: 0.7950 - acc: 0.6496\n",
      "Epoch 4/100\n",
      "234/234 [==============================] - 0s 2ms/step - loss: 0.6614 - acc: 0.7564\n",
      "Epoch 5/100\n",
      "234/234 [==============================] - 0s 2ms/step - loss: 0.5906 - acc: 0.7521\n",
      "Epoch 6/100\n",
      "234/234 [==============================] - 0s 2ms/step - loss: 0.5630 - acc: 0.7949\n",
      "Epoch 7/100\n",
      "234/234 [==============================] - 0s 2ms/step - loss: 0.5027 - acc: 0.8205\n",
      "Epoch 8/100\n",
      "234/234 [==============================] - 0s 2ms/step - loss: 0.5200 - acc: 0.7735\n",
      "Epoch 9/100\n",
      "234/234 [==============================] - 0s 2ms/step - loss: 0.3980 - acc: 0.8376\n",
      "Epoch 10/100\n",
      "234/234 [==============================] - 0s 2ms/step - loss: 0.3743 - acc: 0.8590\n",
      "Epoch 11/100\n",
      "234/234 [==============================] - 0s 2ms/step - loss: 0.3271 - acc: 0.8675\n",
      "Epoch 12/100\n",
      "234/234 [==============================] - 0s 2ms/step - loss: 0.2812 - acc: 0.8932\n",
      "Epoch 13/100\n",
      "234/234 [==============================] - 0s 2ms/step - loss: 0.2573 - acc: 0.8974\n",
      "Epoch 14/100\n",
      "234/234 [==============================] - 0s 2ms/step - loss: 0.2298 - acc: 0.9359\n",
      "Epoch 15/100\n",
      "234/234 [==============================] - 0s 2ms/step - loss: 0.2100 - acc: 0.9444\n",
      "Epoch 16/100\n",
      "234/234 [==============================] - 0s 2ms/step - loss: 0.1878 - acc: 0.9530\n",
      "Epoch 17/100\n",
      "234/234 [==============================] - 0s 2ms/step - loss: 0.1631 - acc: 0.9487\n",
      "Epoch 18/100\n",
      "234/234 [==============================] - 0s 2ms/step - loss: 0.1458 - acc: 0.9615\n",
      "Epoch 19/100\n",
      "234/234 [==============================] - 0s 2ms/step - loss: 0.1120 - acc: 0.9786\n",
      "Epoch 20/100\n",
      "234/234 [==============================] - 0s 2ms/step - loss: 0.1000 - acc: 0.9829\n",
      "Epoch 21/100\n",
      "234/234 [==============================] - 0s 2ms/step - loss: 0.0704 - acc: 0.9915\n",
      "Epoch 22/100\n",
      "234/234 [==============================] - 0s 2ms/step - loss: 0.0556 - acc: 0.9957\n",
      "Epoch 23/100\n",
      "234/234 [==============================] - 0s 2ms/step - loss: 0.0614 - acc: 0.9957\n",
      "Epoch 24/100\n",
      "234/234 [==============================] - 0s 2ms/step - loss: 0.0709 - acc: 0.9786\n",
      "Epoch 25/100\n",
      "234/234 [==============================] - 0s 2ms/step - loss: 0.0574 - acc: 0.9915\n",
      "Epoch 26/100\n",
      "234/234 [==============================] - 0s 2ms/step - loss: 0.0476 - acc: 0.9957\n",
      "Epoch 27/100\n",
      "234/234 [==============================] - 0s 2ms/step - loss: 0.0329 - acc: 0.9915\n",
      "Epoch 28/100\n",
      "234/234 [==============================] - 0s 2ms/step - loss: 0.0322 - acc: 1.0000\n",
      "Epoch 29/100\n",
      "234/234 [==============================] - 0s 2ms/step - loss: 0.0273 - acc: 1.0000\n",
      "Epoch 30/100\n",
      "234/234 [==============================] - 0s 2ms/step - loss: 0.0187 - acc: 1.0000\n",
      "Epoch 31/100\n",
      "234/234 [==============================] - 0s 2ms/step - loss: 0.0146 - acc: 1.0000\n",
      "Epoch 32/100\n",
      "234/234 [==============================] - 0s 2ms/step - loss: 0.0120 - acc: 1.0000\n",
      "Epoch 33/100\n",
      "234/234 [==============================] - 0s 2ms/step - loss: 0.0134 - acc: 1.0000\n",
      "Epoch 34/100\n",
      "234/234 [==============================] - 0s 2ms/step - loss: 0.0156 - acc: 1.0000\n",
      "Epoch 35/100\n",
      "234/234 [==============================] - 0s 2ms/step - loss: 0.0108 - acc: 1.0000\n",
      "Epoch 36/100\n",
      "234/234 [==============================] - 0s 2ms/step - loss: 0.0102 - acc: 1.0000\n",
      "Epoch 37/100\n",
      "234/234 [==============================] - 0s 2ms/step - loss: 0.0113 - acc: 1.0000\n",
      "Epoch 38/100\n",
      "234/234 [==============================] - 0s 2ms/step - loss: 0.0119 - acc: 1.0000\n",
      "Epoch 39/100\n",
      "234/234 [==============================] - 0s 2ms/step - loss: 0.0107 - acc: 1.0000\n",
      "Epoch 40/100\n",
      "234/234 [==============================] - 0s 2ms/step - loss: 0.0105 - acc: 1.0000\n",
      "Epoch 41/100\n",
      "234/234 [==============================] - 0s 2ms/step - loss: 0.0075 - acc: 1.0000\n",
      "Epoch 42/100\n",
      "234/234 [==============================] - 0s 2ms/step - loss: 0.0089 - acc: 1.0000\n",
      "Epoch 43/100\n",
      "234/234 [==============================] - 0s 2ms/step - loss: 0.0056 - acc: 1.0000\n",
      "Epoch 44/100\n",
      "234/234 [==============================] - 0s 2ms/step - loss: 0.0098 - acc: 1.0000\n",
      "Epoch 45/100\n",
      "234/234 [==============================] - 0s 2ms/step - loss: 0.0061 - acc: 1.0000\n",
      "Epoch 46/100\n",
      "234/234 [==============================] - 0s 2ms/step - loss: 0.0060 - acc: 1.0000\n",
      "Epoch 47/100\n",
      "234/234 [==============================] - 0s 2ms/step - loss: 0.0080 - acc: 1.0000\n",
      "Epoch 48/100\n",
      "234/234 [==============================] - 0s 2ms/step - loss: 0.0078 - acc: 1.0000\n",
      "Epoch 49/100\n",
      "234/234 [==============================] - 0s 2ms/step - loss: 0.0075 - acc: 1.0000\n",
      "Epoch 50/100\n",
      "234/234 [==============================] - 0s 2ms/step - loss: 0.0065 - acc: 1.0000\n",
      "Epoch 51/100\n",
      "234/234 [==============================] - 0s 2ms/step - loss: 0.0043 - acc: 1.0000\n",
      "Epoch 52/100\n",
      "234/234 [==============================] - 0s 2ms/step - loss: 0.0062 - acc: 1.0000\n",
      "Epoch 53/100\n",
      "234/234 [==============================] - 0s 2ms/step - loss: 0.0074 - acc: 1.0000\n",
      "Epoch 54/100\n",
      "234/234 [==============================] - 0s 2ms/step - loss: 0.0041 - acc: 1.0000\n",
      "Epoch 55/100\n",
      "234/234 [==============================] - 0s 2ms/step - loss: 0.0091 - acc: 0.9957\n",
      "Epoch 56/100\n",
      "234/234 [==============================] - 0s 2ms/step - loss: 0.0052 - acc: 1.0000\n",
      "Epoch 57/100\n",
      "234/234 [==============================] - 0s 2ms/step - loss: 0.0024 - acc: 1.0000\n",
      "Epoch 58/100\n",
      "234/234 [==============================] - 0s 2ms/step - loss: 0.0051 - acc: 1.0000\n",
      "Epoch 59/100\n",
      "234/234 [==============================] - 0s 2ms/step - loss: 0.0043 - acc: 1.0000\n",
      "Epoch 60/100\n",
      "234/234 [==============================] - 0s 2ms/step - loss: 0.0050 - acc: 1.0000\n",
      "Epoch 61/100\n",
      "234/234 [==============================] - 0s 2ms/step - loss: 0.0078 - acc: 0.9957\n",
      "Epoch 62/100\n",
      "234/234 [==============================] - 0s 2ms/step - loss: 0.0144 - acc: 0.9957\n",
      "Epoch 63/100\n",
      "234/234 [==============================] - 0s 2ms/step - loss: 0.0290 - acc: 0.9957\n",
      "Epoch 64/100\n",
      "234/234 [==============================] - 0s 2ms/step - loss: 0.0285 - acc: 0.9915\n",
      "Epoch 65/100\n",
      "234/234 [==============================] - 0s 2ms/step - loss: 0.0240 - acc: 0.9957\n",
      "Epoch 66/100\n",
      "234/234 [==============================] - 0s 2ms/step - loss: 0.0280 - acc: 0.9915\n",
      "Epoch 67/100\n",
      "234/234 [==============================] - 0s 2ms/step - loss: 0.0176 - acc: 0.9957\n",
      "Epoch 68/100\n",
      "234/234 [==============================] - 0s 2ms/step - loss: 0.0138 - acc: 0.9957\n",
      "Epoch 69/100\n",
      "234/234 [==============================] - 0s 2ms/step - loss: 0.0071 - acc: 1.0000\n",
      "Epoch 70/100\n",
      "234/234 [==============================] - 0s 2ms/step - loss: 0.0046 - acc: 1.0000\n",
      "Epoch 71/100\n",
      "234/234 [==============================] - 0s 2ms/step - loss: 0.0045 - acc: 1.0000\n",
      "Epoch 72/100\n",
      "234/234 [==============================] - 0s 2ms/step - loss: 0.0034 - acc: 1.0000\n",
      "Epoch 73/100\n",
      "234/234 [==============================] - 0s 2ms/step - loss: 0.0016 - acc: 1.0000\n",
      "Epoch 74/100\n",
      "234/234 [==============================] - 0s 2ms/step - loss: 0.0036 - acc: 1.0000\n",
      "Epoch 75/100\n",
      "234/234 [==============================] - 0s 2ms/step - loss: 0.0016 - acc: 1.0000\n",
      "Epoch 76/100\n",
      "234/234 [==============================] - 0s 2ms/step - loss: 0.0026 - acc: 1.0000\n",
      "Epoch 77/100\n",
      "234/234 [==============================] - 0s 2ms/step - loss: 0.0029 - acc: 1.0000\n",
      "Epoch 78/100\n",
      "234/234 [==============================] - 0s 2ms/step - loss: 0.0033 - acc: 1.0000\n",
      "Epoch 79/100\n",
      " 50/234 [=====>........................] - ETA: 0s - loss: 0.0028 - acc: 1.0000"
     ]
    }
   ],
   "source": [
    "model.fit(x_train,y_train,batch_size=50\n",
    "          ,epochs=100,verbose=1)"
   ]
  },
  {
   "cell_type": "code",
   "execution_count": 58,
   "metadata": {},
   "outputs": [
    {
     "name": "stdout",
     "output_type": "stream",
     "text": [
      "25/25 [==============================] - 0s 4ms/step\n",
      "\n",
      " Test accuracy: 0.8799999952316284\n"
     ]
    }
   ],
   "source": [
    "score = model.evaluate(x_test, y_test, verbose=1)\n",
    "print('\\n', 'Test accuracy:', score[1])"
   ]
  },
  {
   "cell_type": "code",
   "execution_count": 59,
   "metadata": {},
   "outputs": [
    {
     "data": {
      "text/plain": [
       "'cows'"
      ]
     },
     "execution_count": 59,
     "metadata": {},
     "output_type": "execute_result"
    }
   ],
   "source": [
    "categories[0][1]"
   ]
  },
  {
   "cell_type": "code",
   "execution_count": 60,
   "metadata": {},
   "outputs": [],
   "source": [
    "def convert_to_array(img):\n",
    "    im = cv2.imread(img)\n",
    "    img = Image.fromarray(im, 'RGB')\n",
    "    image = img.resize((50, 50))\n",
    "    return np.array(image)\n",
    "def get_animal_name(label):\n",
    "    return (categories[label][1])\n",
    "    \n",
    "#     if label==0:\n",
    "#         return \"cow\"\n",
    "#     if label==1:\n",
    "#         return \"deer\"\n",
    "#     if label==2:\n",
    "#         return \"skunk\"\n",
    "#     if label==3:\n",
    "#          return \"fish\"\n",
    "def predict_animal(file):\n",
    "    print(\"Predicting .................................\")\n",
    "    ar=convert_to_array(file)\n",
    "    ar=ar/255\n",
    "    label=1\n",
    "    a=[]\n",
    "    a.append(ar)\n",
    "    a=np.array(a)\n",
    "    score=model.predict(a,verbose=1)\n",
    "    print(score)\n",
    "    label_index=np.argmax(score)\n",
    "    print(label_index)\n",
    "    acc=np.max(score)\n",
    "    animal=get_animal_name(label_index)\n",
    "    print(animal)\n",
    "    print(\"The predicted Animal is a \"+animal+\" with accuracy =    \"+str(acc))"
   ]
  },
  {
   "cell_type": "code",
   "execution_count": 61,
   "metadata": {},
   "outputs": [
    {
     "name": "stdout",
     "output_type": "stream",
     "text": [
      "Predicting .................................\n",
      "1/1 [==============================] - 0s 75ms/step\n",
      "[[1.5524296e-07 9.9918371e-01 8.1619929e-04]]\n",
      "1\n",
      "deers\n",
      "The predicted Animal is a deers with accuracy =    0.9991837\n"
     ]
    }
   ],
   "source": [
    "predict_animal(\"skunk_superhero.jpg\")"
   ]
  },
  {
   "cell_type": "code",
   "execution_count": null,
   "metadata": {},
   "outputs": [],
   "source": []
  }
 ],
 "metadata": {
  "kernelspec": {
   "display_name": "Python 3",
   "language": "python",
   "name": "python3"
  },
  "language_info": {
   "codemirror_mode": {
    "name": "ipython",
    "version": 3
   },
   "file_extension": ".py",
   "mimetype": "text/x-python",
   "name": "python",
   "nbconvert_exporter": "python",
   "pygments_lexer": "ipython3",
   "version": "3.6.6"
  }
 },
 "nbformat": 4,
 "nbformat_minor": 2
}
