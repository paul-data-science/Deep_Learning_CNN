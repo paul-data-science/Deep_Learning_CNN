{
 "cells": [
  {
   "cell_type": "code",
   "execution_count": 8,
   "metadata": {},
   "outputs": [],
   "source": [
    "import cv2\n",
    "from PIL import Image\n",
    "\n",
    "import os\n",
    "import numpy as np\n",
    "import tensorflow as tf\n",
    "\n",
    "import keras\n",
    "from keras.preprocessing import image"
   ]
  },
  {
   "cell_type": "code",
   "execution_count": 1,
   "metadata": {},
   "outputs": [
    {
     "name": "stderr",
     "output_type": "stream",
     "text": [
      "Using TensorFlow backend.\n"
     ]
    }
   ],
   "source": [
    "# Load the model\n",
    "from keras.models import load_model\n",
    "model = load_model(\"predict_v1.h5\")"
   ]
  },
  {
   "cell_type": "code",
   "execution_count": 11,
   "metadata": {},
   "outputs": [
    {
     "name": "stdout",
     "output_type": "stream",
     "text": [
      "ants\n",
      "armadillos\n",
      "bats\n",
      "black_widows\n",
      "cats\n",
      "cows\n",
      "deer\n",
      "ducks\n",
      "falcons\n",
      "frogs\n",
      "hawks\n",
      "lizards\n",
      "octopi\n",
      "panthers\n",
      "penguins\n",
      "porcupines\n",
      "rhinos\n",
      "robins\n",
      "sabertooth_tigers\n",
      "skunks\n",
      "spiders\n",
      "tigers\n",
      "turtles\n",
      "vultures\n",
      "wasps\n",
      "wolverines\n"
     ]
    },
    {
     "data": {
      "text/plain": [
       "[[0, 'ants'],\n",
       " [1, 'armadillos'],\n",
       " [2, 'bats'],\n",
       " [3, 'black_widows'],\n",
       " [4, 'cats'],\n",
       " [5, 'cows'],\n",
       " [6, 'deer'],\n",
       " [7, 'ducks'],\n",
       " [8, 'falcons'],\n",
       " [9, 'frogs'],\n",
       " [10, 'hawks'],\n",
       " [11, 'lizards'],\n",
       " [12, 'octopi'],\n",
       " [13, 'panthers'],\n",
       " [14, 'penguins'],\n",
       " [15, 'porcupines'],\n",
       " [16, 'rhinos'],\n",
       " [17, 'robins'],\n",
       " [18, 'sabertooth_tigers'],\n",
       " [19, 'skunks'],\n",
       " [20, 'spiders'],\n",
       " [21, 'tigers'],\n",
       " [22, 'turtles'],\n",
       " [23, 'vultures'],\n",
       " [24, 'wasps'],\n",
       " [25, 'wolverines']]"
      ]
     },
     "execution_count": 11,
     "metadata": {},
     "output_type": "execute_result"
    }
   ],
   "source": [
    "categories = []\n",
    "i = 0\n",
    "categs = os.listdir(\"images\")\n",
    "for categ in categs:\n",
    "    categories.append([i,categ])\n",
    "    animalpics = os.listdir(\"images/\" + categ)\n",
    "    \n",
    "    i= i+1\n",
    "    \n",
    "categories"
   ]
  },
  {
   "cell_type": "code",
   "execution_count": 2,
   "metadata": {},
   "outputs": [],
   "source": [
    "def convert_to_array(img):\n",
    "    im = cv2.imread(img)\n",
    "    img = Image.fromarray(im, 'RGB')\n",
    "    image = img.resize((50, 50))\n",
    "    return np.array(image)\n",
    "def get_animal_name(label):\n",
    "    return (categories[label][1])\n",
    "    \n",
    "#     if label==0:\n",
    "#         return \"cow\"\n",
    "#     if label==1:\n",
    "#         return \"deer\"\n",
    "#     if label==2:\n",
    "#         return \"skunk\"\n",
    "#     if label==3:\n",
    "#          return \"fish\"\n",
    "def predict_animal(file):\n",
    "    print(\"Predicting .................................\")\n",
    "    ar=convert_to_array(file)\n",
    "    ar=ar/255\n",
    "    label=1\n",
    "    a=[]\n",
    "    a.append(ar)\n",
    "    a=np.array(a)\n",
    "    score=model.predict(a,verbose=1)\n",
    "    print(score)\n",
    "    label_index=np.argmax(score)\n",
    "    print(label_index)\n",
    "    acc=np.max(score)\n",
    "    animal=get_animal_name(label_index)\n",
    "    print(animal)\n",
    "    print(\"The predicted Animal is a \"+animal+\" with accuracy =    \"+str(acc))"
   ]
  },
  {
   "cell_type": "code",
   "execution_count": 10,
   "metadata": {},
   "outputs": [
    {
     "data": {
      "text/plain": [
       "<keras.engine.sequential.Sequential at 0x1a26ab3bda0>"
      ]
     },
     "execution_count": 10,
     "metadata": {},
     "output_type": "execute_result"
    }
   ],
   "source": [
    "model"
   ]
  },
  {
   "cell_type": "code",
   "execution_count": 9,
   "metadata": {},
   "outputs": [
    {
     "name": "stdout",
     "output_type": "stream",
     "text": [
      "Predicting .................................\n",
      "1/1 [==============================] - 0s 195ms/step\n",
      "[[3.8166053e-07 9.7997592e-08 1.7168254e-02 4.1689909e-06 3.1464544e-06\n",
      "  8.7218419e-02 2.1669405e-02 2.3776828e-03 2.1444608e-07 6.3896865e-01\n",
      "  4.2543099e-03 1.3434671e-01 3.0670371e-06 1.8560787e-08 7.0387840e-02\n",
      "  9.6875292e-06 1.2174755e-07 1.9192855e-03 1.3942117e-03 6.2400879e-08\n",
      "  3.5752419e-05 1.2996294e-02 7.0587953e-04 5.3087124e-10 6.5363930e-03\n",
      "  1.6256212e-08]]\n",
      "9\n"
     ]
    },
    {
     "ename": "NameError",
     "evalue": "name 'categories' is not defined",
     "output_type": "error",
     "traceback": [
      "\u001b[1;31m---------------------------------------------------------------------------\u001b[0m",
      "\u001b[1;31mNameError\u001b[0m                                 Traceback (most recent call last)",
      "\u001b[1;32m<ipython-input-9-cb409fde0f31>\u001b[0m in \u001b[0;36m<module>\u001b[1;34m()\u001b[0m\n\u001b[1;32m----> 1\u001b[1;33m \u001b[0mpredict_animal\u001b[0m\u001b[1;33m(\u001b[0m\u001b[1;34m\"Superhero_Images/vulture.jpg\"\u001b[0m\u001b[1;33m)\u001b[0m\u001b[1;33m\u001b[0m\u001b[0m\n\u001b[0m",
      "\u001b[1;32m<ipython-input-2-20d41fa36be6>\u001b[0m in \u001b[0;36mpredict_animal\u001b[1;34m(file)\u001b[0m\n\u001b[0;32m     28\u001b[0m     \u001b[0mprint\u001b[0m\u001b[1;33m(\u001b[0m\u001b[0mlabel_index\u001b[0m\u001b[1;33m)\u001b[0m\u001b[1;33m\u001b[0m\u001b[0m\n\u001b[0;32m     29\u001b[0m     \u001b[0macc\u001b[0m\u001b[1;33m=\u001b[0m\u001b[0mnp\u001b[0m\u001b[1;33m.\u001b[0m\u001b[0mmax\u001b[0m\u001b[1;33m(\u001b[0m\u001b[0mscore\u001b[0m\u001b[1;33m)\u001b[0m\u001b[1;33m\u001b[0m\u001b[0m\n\u001b[1;32m---> 30\u001b[1;33m     \u001b[0manimal\u001b[0m\u001b[1;33m=\u001b[0m\u001b[0mget_animal_name\u001b[0m\u001b[1;33m(\u001b[0m\u001b[0mlabel_index\u001b[0m\u001b[1;33m)\u001b[0m\u001b[1;33m\u001b[0m\u001b[0m\n\u001b[0m\u001b[0;32m     31\u001b[0m     \u001b[0mprint\u001b[0m\u001b[1;33m(\u001b[0m\u001b[0manimal\u001b[0m\u001b[1;33m)\u001b[0m\u001b[1;33m\u001b[0m\u001b[0m\n\u001b[0;32m     32\u001b[0m     \u001b[0mprint\u001b[0m\u001b[1;33m(\u001b[0m\u001b[1;34m\"The predicted Animal is a \"\u001b[0m\u001b[1;33m+\u001b[0m\u001b[0manimal\u001b[0m\u001b[1;33m+\u001b[0m\u001b[1;34m\" with accuracy =    \"\u001b[0m\u001b[1;33m+\u001b[0m\u001b[0mstr\u001b[0m\u001b[1;33m(\u001b[0m\u001b[0macc\u001b[0m\u001b[1;33m)\u001b[0m\u001b[1;33m)\u001b[0m\u001b[1;33m\u001b[0m\u001b[0m\n",
      "\u001b[1;32m<ipython-input-2-20d41fa36be6>\u001b[0m in \u001b[0;36mget_animal_name\u001b[1;34m(label)\u001b[0m\n\u001b[0;32m      5\u001b[0m     \u001b[1;32mreturn\u001b[0m \u001b[0mnp\u001b[0m\u001b[1;33m.\u001b[0m\u001b[0marray\u001b[0m\u001b[1;33m(\u001b[0m\u001b[0mimage\u001b[0m\u001b[1;33m)\u001b[0m\u001b[1;33m\u001b[0m\u001b[0m\n\u001b[0;32m      6\u001b[0m \u001b[1;32mdef\u001b[0m \u001b[0mget_animal_name\u001b[0m\u001b[1;33m(\u001b[0m\u001b[0mlabel\u001b[0m\u001b[1;33m)\u001b[0m\u001b[1;33m:\u001b[0m\u001b[1;33m\u001b[0m\u001b[0m\n\u001b[1;32m----> 7\u001b[1;33m     \u001b[1;32mreturn\u001b[0m \u001b[1;33m(\u001b[0m\u001b[0mcategories\u001b[0m\u001b[1;33m[\u001b[0m\u001b[0mlabel\u001b[0m\u001b[1;33m]\u001b[0m\u001b[1;33m[\u001b[0m\u001b[1;36m1\u001b[0m\u001b[1;33m]\u001b[0m\u001b[1;33m)\u001b[0m\u001b[1;33m\u001b[0m\u001b[0m\n\u001b[0m\u001b[0;32m      8\u001b[0m \u001b[1;33m\u001b[0m\u001b[0m\n\u001b[0;32m      9\u001b[0m \u001b[1;31m#     if label==0:\u001b[0m\u001b[1;33m\u001b[0m\u001b[1;33m\u001b[0m\u001b[0m\n",
      "\u001b[1;31mNameError\u001b[0m: name 'categories' is not defined"
     ]
    }
   ],
   "source": [
    "predict_animal(\"Superhero_Images/vulture.jpg\")"
   ]
  },
  {
   "cell_type": "code",
   "execution_count": null,
   "metadata": {},
   "outputs": [],
   "source": []
  }
 ],
 "metadata": {
  "kernelspec": {
   "display_name": "Python 3",
   "language": "python",
   "name": "python3"
  },
  "language_info": {
   "codemirror_mode": {
    "name": "ipython",
    "version": 3
   },
   "file_extension": ".py",
   "mimetype": "text/x-python",
   "name": "python",
   "nbconvert_exporter": "python",
   "pygments_lexer": "ipython3",
   "version": "3.6.6"
  }
 },
 "nbformat": 4,
 "nbformat_minor": 2
}
